{
  "metadata": {
    "kernelspec": {
      "language": "python",
      "display_name": "Python 3",
      "name": "python3"
    },
    "language_info": {
      "name": "python",
      "version": "3.7.10",
      "mimetype": "text/x-python",
      "codemirror_mode": {
        "name": "ipython",
        "version": 3
      },
      "pygments_lexer": "ipython3",
      "nbconvert_exporter": "python",
      "file_extension": ".py"
    },
    "kaggle": {
      "accelerator": "none",
      "dataSources": [
        {
          "sourceId": 127736,
          "sourceType": "datasetVersion",
          "datasetId": 64890
        }
      ],
      "dockerImageVersionId": 30145,
      "isInternetEnabled": true,
      "language": "python",
      "sourceType": "notebook",
      "isGpuEnabled": false
    },
    "colab": {
      "name": "Genre Prediction (Multinomial NB, LSTM)",
      "provenance": [],
      "include_colab_link": true
    }
  },
  "nbformat_minor": 0,
  "nbformat": 4,
  "cells": [
    {
      "cell_type": "markdown",
      "metadata": {
        "id": "view-in-github",
        "colab_type": "text"
      },
      "source": [
        "<a href=\"https://colab.research.google.com/github/codebylakshay/ProJect-1/blob/main/Movie_Genre_Prediction.ipynb\" target=\"_parent\"><img src=\"https://colab.research.google.com/assets/colab-badge.svg\" alt=\"Open In Colab\"/></a>"
      ]
    },
    {
      "source": [
        "\n",
        "# IMPORTANT: RUN THIS CELL IN ORDER TO IMPORT YOUR KAGGLE DATA SOURCES\n",
        "# TO THE CORRECT LOCATION (/kaggle/input) IN YOUR NOTEBOOK,\n",
        "# THEN FEEL FREE TO DELETE THIS CELL.\n",
        "# NOTE: THIS NOTEBOOK ENVIRONMENT DIFFERS FROM KAGGLE'S PYTHON\n",
        "# ENVIRONMENT SO THERE MAY BE MISSING LIBRARIES USED BY YOUR\n",
        "# NOTEBOOK.\n",
        "\n",
        "import os\n",
        "import sys\n",
        "from tempfile import NamedTemporaryFile\n",
        "from urllib.request import urlopen\n",
        "from urllib.parse import unquote, urlparse\n",
        "from urllib.error import HTTPError\n",
        "from zipfile import ZipFile\n",
        "import tarfile\n",
        "import shutil\n",
        "\n",
        "CHUNK_SIZE = 40960\n",
        "DATA_SOURCE_MAPPING = 'wikipedia-movie-plots:https%3A%2F%2Fstorage.googleapis.com%2Fkaggle-data-sets%2F64890%2F127736%2Fbundle%2Farchive.zip%3FX-Goog-Algorithm%3DGOOG4-RSA-SHA256%26X-Goog-Credential%3Dgcp-kaggle-com%2540kaggle-161607.iam.gserviceaccount.com%252F20240831%252Fauto%252Fstorage%252Fgoog4_request%26X-Goog-Date%3D20240831T070659Z%26X-Goog-Expires%3D259200%26X-Goog-SignedHeaders%3Dhost%26X-Goog-Signature%3D3dffcb4ad591e89d3fea9da05601914463902b2f5cdd2144050a99a0f3c8988c087b51df8d18e10c55d43b76d92e1ef6281011640fd72438af8013d84305ea3f72da8fe5a2d7b455b79e1450173bc2a5a8bff94b8a09f6f66d554816c04d6d296287434f4f63a42d64fa989340f147f8367a0c1baacf4ccc3b8551fa7cbdd7dc245e6700ff086cc62a622cf0a91ec6e620aed06f5d3fbfc39a635626283e774de2e7c56fa27e6d03b00f5748a563888a0844938708c10c07b0da2cd6d2d0fec4a37953c25544bc09ca7f3dede1739aeb325222a265c8da9eb841e98dae4eb513a48ed3aecc8e6fd42b9da9162f6f9a7fb1d50a4ff0fbc5290b1ee26b6d521b59'\n",
        "\n",
        "KAGGLE_INPUT_PATH='/kaggle/input'\n",
        "KAGGLE_WORKING_PATH='/kaggle/working'\n",
        "KAGGLE_SYMLINK='kaggle'\n",
        "\n",
        "!umount /kaggle/input/ 2> /dev/null\n",
        "shutil.rmtree('/kaggle/input', ignore_errors=True)\n",
        "os.makedirs(KAGGLE_INPUT_PATH, 0o777, exist_ok=True)\n",
        "os.makedirs(KAGGLE_WORKING_PATH, 0o777, exist_ok=True)\n",
        "\n",
        "try:\n",
        "  os.symlink(KAGGLE_INPUT_PATH, os.path.join(\"..\", 'input'), target_is_directory=True)\n",
        "except FileExistsError:\n",
        "  pass\n",
        "try:\n",
        "  os.symlink(KAGGLE_WORKING_PATH, os.path.join(\"..\", 'working'), target_is_directory=True)\n",
        "except FileExistsError:\n",
        "  pass\n",
        "\n",
        "for data_source_mapping in DATA_SOURCE_MAPPING.split(','):\n",
        "    directory, download_url_encoded = data_source_mapping.split(':')\n",
        "    download_url = unquote(download_url_encoded)\n",
        "    filename = urlparse(download_url).path\n",
        "    destination_path = os.path.join(KAGGLE_INPUT_PATH, directory)\n",
        "    try:\n",
        "        with urlopen(download_url) as fileres, NamedTemporaryFile() as tfile:\n",
        "            total_length = fileres.headers['content-length']\n",
        "            print(f'Downloading {directory}, {total_length} bytes compressed')\n",
        "            dl = 0\n",
        "            data = fileres.read(CHUNK_SIZE)\n",
        "            while len(data) > 0:\n",
        "                dl += len(data)\n",
        "                tfile.write(data)\n",
        "                done = int(50 * dl / int(total_length))\n",
        "                sys.stdout.write(f\"\\r[{'=' * done}{' ' * (50-done)}] {dl} bytes downloaded\")\n",
        "                sys.stdout.flush()\n",
        "                data = fileres.read(CHUNK_SIZE)\n",
        "            if filename.endswith('.zip'):\n",
        "              with ZipFile(tfile) as zfile:\n",
        "                zfile.extractall(destination_path)\n",
        "            else:\n",
        "              with tarfile.open(tfile.name) as tarfile:\n",
        "                tarfile.extractall(destination_path)\n",
        "            print(f'\\nDownloaded and uncompressed: {directory}')\n",
        "    except HTTPError as e:\n",
        "        print(f'Failed to load (likely expired) {download_url} to path {destination_path}')\n",
        "        continue\n",
        "    except OSError as e:\n",
        "        print(f'Failed to load {download_url} to path {destination_path}')\n",
        "        continue\n",
        "\n",
        "print('Data source import complete.')\n"
      ],
      "metadata": {
        "id": "-Ts-PM06owQv"
      },
      "cell_type": "code",
      "outputs": [],
      "execution_count": null
    },
    {
      "cell_type": "markdown",
      "source": [
        "# Genre Prediction\n",
        "In this notebook, we will attempt to predict the genre of movies using their plots and different approaches"
      ],
      "metadata": {
        "id": "QapwJHuyowQy"
      }
    },
    {
      "cell_type": "code",
      "source": [
        "import pandas as pd\n",
        "import numpy as np\n",
        "import matplotlib.pyplot as plt\n",
        "\n",
        "import re, spacy, torch\n",
        "from keras.preprocessing import sequence\n",
        "\n",
        "from sklearn.preprocessing import MultiLabelBinarizer\n",
        "from sklearn.feature_extraction.text import TfidfVectorizer, CountVectorizer\n",
        "from sklearn.pipeline import Pipeline\n",
        "from sklearn.model_selection import train_test_split\n",
        "from sklearn.multioutput import MultiOutputClassifier\n",
        "from sklearn.neighbors import KNeighborsClassifier\n",
        "from sklearn.ensemble import RandomForestClassifier\n",
        "from sklearn.metrics import classification_report\n",
        "from sklearn.naive_bayes import MultinomialNB, ComplementNB"
      ],
      "metadata": {
        "_uuid": "8f2839f25d086af736a60e9eeb907d3b93b6e0e5",
        "_cell_guid": "b1076dfc-b9ad-4769-8c92-a6c4dae69d19",
        "execution": {
          "iopub.status.busy": "2024-08-31T05:18:09.851574Z",
          "iopub.execute_input": "2024-08-31T05:18:09.851944Z",
          "iopub.status.idle": "2024-08-31T05:18:09.860898Z",
          "shell.execute_reply.started": "2024-08-31T05:18:09.851906Z",
          "shell.execute_reply": "2024-08-31T05:18:09.859607Z"
        },
        "trusted": true,
        "id": "ceop0dTRowQz"
      },
      "execution_count": null,
      "outputs": []
    },
    {
      "cell_type": "code",
      "source": [
        "plots_df = pd.read_csv(\"/kaggle/input/wikipedia-movie-plots/wiki_movie_plots_deduped.csv\")\n",
        "plots_df.shape"
      ],
      "metadata": {
        "execution": {
          "iopub.status.busy": "2024-08-31T05:19:40.847439Z",
          "iopub.execute_input": "2024-08-31T05:19:40.848316Z",
          "iopub.status.idle": "2024-08-31T05:19:42.244664Z",
          "shell.execute_reply.started": "2024-08-31T05:19:40.848238Z",
          "shell.execute_reply": "2024-08-31T05:19:42.243406Z"
        },
        "trusted": true,
        "id": "ZtAJqZrNowQz",
        "outputId": "6c4b5cda-a55c-4bdc-d4d3-8478957e2014"
      },
      "execution_count": null,
      "outputs": [
        {
          "execution_count": 23,
          "output_type": "execute_result",
          "data": {
            "text/plain": "(34886, 8)"
          },
          "metadata": {}
        }
      ]
    },
    {
      "cell_type": "markdown",
      "source": [
        "## Attribute distributions\n",
        "Most movies seem to be recent, with only a few before the 1940s. Most are also American in origin."
      ],
      "metadata": {
        "id": "KhBFwsryowQ0"
      }
    },
    {
      "cell_type": "code",
      "source": [
        "plots_df.hist(column='Release Year')"
      ],
      "metadata": {
        "execution": {
          "iopub.status.busy": "2024-08-31T05:19:45.783489Z",
          "iopub.execute_input": "2024-08-31T05:19:45.783856Z",
          "iopub.status.idle": "2024-08-31T05:19:46.080043Z",
          "shell.execute_reply.started": "2024-08-31T05:19:45.783814Z",
          "shell.execute_reply": "2024-08-31T05:19:46.078885Z"
        },
        "trusted": true,
        "id": "-7O-LYFCowQ0",
        "outputId": "dc274dab-41cb-4b56-ecef-8ae3dcf0eb9b"
      },
      "execution_count": null,
      "outputs": [
        {
          "execution_count": 24,
          "output_type": "execute_result",
          "data": {
            "text/plain": "array([[<AxesSubplot:title={'center':'Release Year'}>]], dtype=object)"
          },
          "metadata": {}
        },
        {
          "output_type": "display_data",
          "data": {
            "text/plain": "<Figure size 432x288 with 1 Axes>",
            "image/png": "[encoded data removed]"
          },
          "metadata": {
            "needs_background": "light"
          }
        }
      ]
    },
    {
      "cell_type": "code",
      "source": [
        "plots_df['Origin/Ethnicity'].hist(xrot=45, figsize=(12,5),bins=len(plots_df['Origin/Ethnicity'].unique()) -1)"
      ],
      "metadata": {
        "execution": {
          "iopub.status.busy": "2024-08-31T05:19:51.372716Z",
          "iopub.execute_input": "2024-08-31T05:19:51.373045Z",
          "iopub.status.idle": "2024-08-31T05:19:51.880649Z",
          "shell.execute_reply.started": "2024-08-31T05:19:51.373009Z",
          "shell.execute_reply": "2024-08-31T05:19:51.879575Z"
        },
        "trusted": true,
        "id": "p5rj1IOnowQ1",
        "outputId": "be5ab16b-9375-429d-e9e7-4d691203ed53"
      },
      "execution_count": null,
      "outputs": [
        {
          "execution_count": 25,
          "output_type": "execute_result",
          "data": {
            "text/plain": "<AxesSubplot:>"
          },
          "metadata": {}
        },
        {
          "output_type": "display_data",
          "data": {
            "text/plain": "<Figure size 864x360 with 1 Axes>",
            "image/png": "[encoded data removed]"
          },
          "metadata": {
            "needs_background": "light"
          }
        }
      ]
    },
    {
      "cell_type": "markdown",
      "source": [
        "## Target Formatting\n",
        "In order to clean up the target variable, some processing is required. By examining the dataset, some common genres are annotated in different ways. We will normalize them below using special tokenization rules."
      ],
      "metadata": {
        "id": "1C1AwK_sowQ1"
      }
    },
    {
      "cell_type": "code",
      "source": [
        "nlp = spacy.load(\"en_core_web_sm\")\n",
        "\n",
        "infixes = nlp.Defaults.infixes + [r'[/\\[\\]]']\n",
        "infix_regex = spacy.util.compile_infix_regex(infixes)\n",
        "nlp.tokenizer.infix_finditer = infix_regex.finditer\n",
        "\n",
        "special_cases = {\n",
        "    \"sci-fi\": [{'ORTH':'sci-','NORM':'science'},{'ORTH':'fi','NORM':'fiction'}],\n",
        "    \"sci fi\": [{'ORTH':'sci ','NORM':'science'},{'ORTH':'fi','NORM':'fiction'}],\n",
        "    \"romcom\": [{'ORTH':'rom','NORM':'romance'},{'ORTH':'com','NORM':'comedy'}],\n",
        "    \"rom-com\": [{'ORTH':'rom-','NORM':'romance'},{'ORTH':'com','NORM':'comedy'}],\n",
        "    \"rom com\": [{'ORTH':'rom ','NORM':'romance'},{'ORTH':'com','NORM':'comedy'}],\n",
        "    \"biopic\": [{'ORTH':'bio','NORM':'biography'},{'ORTH':'pic','NORM':'film'}],\n",
        "    \"bio-pic\": [{'ORTH':'bio-','NORM':'biography'},{'ORTH':'pic','NORM':'film'}],\n",
        "    \"dramedy\": [{'ORTH':'dram','NORM':'drama'},{'ORTH':'edy','NORM':'comedy'}],\n",
        "    \"docudrama\": [{'ORTH':'docu','NORM':'documentary'},{'ORTH':'drama','NORM':'drama'}],\n",
        "}\n",
        "\n",
        "tokenizer = nlp.tokenizer\n",
        "for text, attrs in special_cases.items():\n",
        "    tokenizer.add_special_case(text,attrs)\n",
        "\n",
        "norm_patterns = [\n",
        "    {\n",
        "        \"patterns\" : [[{\"LOWER\":\"romantic\"}]],\n",
        "        \"attrs\": {\"NORM\":\"romance\"}\n",
        "    },\n",
        "    {\n",
        "        \"patterns\" : [[{\"LOWER\":\"biographical\"}]],\n",
        "        \"attrs\": {\"NORM\" : \"biography\"}\n",
        "    }\n",
        "]\n",
        "ruler = nlp.get_pipe(\"attribute_ruler\")\n",
        "ruler.add_patterns(norm_patterns)\n",
        "\n",
        "\n",
        "class GenreMerger(object):\n",
        "    def __init__(self, nlp, patterns):\n",
        "        self.patterns = patterns\n",
        "        self.nlp = nlp\n",
        "        self.matcher = spacy.matcher.Matcher(nlp.vocab)\n",
        "        for pat_id, pattern in patterns.items():\n",
        "            self.matcher.add(pat_id, [pattern])\n",
        "\n",
        "    def __call__(self, doc):\n",
        "        matches = self.matcher(doc)\n",
        "        spans = [doc[start:end] for match_id, start, end in matches]\n",
        "        with doc.retokenize() as retokenizer:\n",
        "            for match_id, start, end in matches:\n",
        "                match_patterns = self.patterns[self.nlp.vocab.strings[match_id]]\n",
        "                norm = \" \".join([pattern[\"NORM\"] for pattern in match_patterns if \"NORM\" in pattern])\n",
        "\n",
        "                retokenizer.merge(doc[start:end], attrs={\"NORM\": norm})\n",
        "        return doc\n",
        "\n",
        "\n",
        "@spacy.Language.factory(\"genre_merger\", retokenizes=True)\n",
        "def merger_factory(nlp, name):\n",
        "    merge_patterns = {\n",
        "        \"sci-fi\" : [{'NORM':'science'},{\"IS_PUNCT\": True, \"OP\":\"?\"},{'NORM':'fiction'}],\n",
        "        \"ww\" : [{'NORM':'world'},{'NORM':'war'}],\n",
        "        \"martial_arts\" : [{'NORM':'martial'},{'NORM':'arts'}]\n",
        "    }\n",
        "    return GenreMerger(nlp, merge_patterns)\n",
        "\n",
        "nlp.add_pipe(\"genre_merger\")"
      ],
      "metadata": {
        "execution": {
          "iopub.status.busy": "2024-08-31T05:19:58.793971Z",
          "iopub.execute_input": "2024-08-31T05:19:58.794384Z",
          "iopub.status.idle": "2024-08-31T05:19:59.793841Z",
          "shell.execute_reply.started": "2024-08-31T05:19:58.794342Z",
          "shell.execute_reply": "2024-08-31T05:19:59.792807Z"
        },
        "trusted": true,
        "id": "UAa9Q4J6owQ1",
        "outputId": "b15bc9fb-2d2c-4e2c-d7f1-77b619efdb5a"
      },
      "execution_count": null,
      "outputs": [
        {
          "execution_count": 26,
          "output_type": "execute_result",
          "data": {
            "text/plain": "<__main__.GenreMerger at 0x793964923910>"
          },
          "metadata": {}
        }
      ]
    },
    {
      "cell_type": "code",
      "source": [
        "genres = nlp.pipe(plots_df['Genre'], disable=['tok2vec','ner'])\n",
        "genres = pd.Series([[token.norm_ for token in doc if not token.is_punct] for doc in genres])"
      ],
      "metadata": {
        "execution": {
          "iopub.status.busy": "2024-08-31T05:20:07.373908Z",
          "iopub.execute_input": "2024-08-31T05:20:07.374293Z",
          "iopub.status.idle": "2024-08-31T05:20:13.596289Z",
          "shell.execute_reply.started": "2024-08-31T05:20:07.374236Z",
          "shell.execute_reply": "2024-08-31T05:20:13.595255Z"
        },
        "trusted": true,
        "id": "ABQ15g9yowQ1"
      },
      "execution_count": null,
      "outputs": []
    },
    {
      "cell_type": "markdown",
      "source": [
        "## Target distribution\n",
        "Few of the genres are the most commonly occuring, with drama and comedy taking the lead. Furthermore, a significant portion of the genres is unknown."
      ],
      "metadata": {
        "id": "S-HtOdfdowQ2"
      }
    },
    {
      "cell_type": "code",
      "source": [
        "genre_count = genres.explode().value_counts()\n",
        "subset = genre_count[:35]\n",
        "\n",
        "plt.figure(figsize=(15,5))\n",
        "plt.xticks(rotation=45)\n",
        "plt.bar(subset.index,subset)"
      ],
      "metadata": {
        "execution": {
          "iopub.status.busy": "2024-08-31T05:20:18.800604Z",
          "iopub.execute_input": "2024-08-31T05:20:18.80092Z",
          "iopub.status.idle": "2024-08-31T05:20:19.309435Z",
          "shell.execute_reply.started": "2024-08-31T05:20:18.800886Z",
          "shell.execute_reply": "2024-08-31T05:20:19.308366Z"
        },
        "trusted": true,
        "id": "F8CJAxSCowQ2",
        "outputId": "6bbd9a67-3874-43df-f187-14be384620a6"
      },
      "execution_count": null,
      "outputs": [
        {
          "execution_count": 28,
          "output_type": "execute_result",
          "data": {
            "text/plain": "<BarContainer object of 35 artists>"
          },
          "metadata": {}
        },
        {
          "output_type": "display_data",
          "data": {
            "text/plain": "<Figure size 1080x360 with 1 Axes>",
            "image/png": "[encoded data removed]"
          },
          "metadata": {
            "needs_background": "light"
          }
        }
      ]
    },
    {
      "cell_type": "markdown",
      "source": [
        "Because of this distribution, we will only keep the most common genres, and skip the missing ones for now. To help boost the less frequent genres, we will only keep the genre with the least overall representation from each movie's genre list."
      ],
      "metadata": {
        "id": "1758UiMCowQ2"
      }
    },
    {
      "cell_type": "code",
      "source": [
        "def get_top_genres(top_n):\n",
        "    return genre_count[genre_count.index != 'unknown'][:top_n].index\n",
        "\n",
        "def determine_genre(genre_list, top_genres):\n",
        "    for genre in top_genres[::-1]:\n",
        "        if genre in genre_list:\n",
        "            return genre\n",
        "    return \"other\""
      ],
      "metadata": {
        "execution": {
          "iopub.status.busy": "2024-08-31T05:20:27.724594Z",
          "iopub.execute_input": "2024-08-31T05:20:27.724911Z",
          "iopub.status.idle": "2024-08-31T05:20:27.731824Z",
          "shell.execute_reply.started": "2024-08-31T05:20:27.724876Z",
          "shell.execute_reply": "2024-08-31T05:20:27.730727Z"
        },
        "trusted": true,
        "id": "YUzCaqplowQ2"
      },
      "execution_count": null,
      "outputs": []
    },
    {
      "cell_type": "code",
      "source": [
        "classes = get_top_genres(10)\n",
        "targets = genres.apply(determine_genre,top_genres=classes)\n",
        "\n",
        "plt.xticks(rotation=45)\n",
        "plt.hist(targets, bins=10)"
      ],
      "metadata": {
        "execution": {
          "iopub.status.busy": "2024-08-31T05:20:32.512023Z",
          "iopub.execute_input": "2024-08-31T05:20:32.512382Z",
          "iopub.status.idle": "2024-08-31T05:20:33.075368Z",
          "shell.execute_reply.started": "2024-08-31T05:20:32.512338Z",
          "shell.execute_reply": "2024-08-31T05:20:33.0744Z"
        },
        "trusted": true,
        "id": "8XLwn6gLowQ2",
        "outputId": "ca4ffd9a-b756-456f-db74-cbe34cc2b754"
      },
      "execution_count": null,
      "outputs": [
        {
          "execution_count": 32,
          "output_type": "execute_result",
          "data": {
            "text/plain": "(array([10655.,   966.,  5561.,  6947.,  1542.,  1585.,  1957.,  2241.,\n         1535.,  1897.]),\n array([ 0.,  1.,  2.,  3.,  4.,  5.,  6.,  7.,  8.,  9., 10.]),\n <BarContainer object of 10 artists>)"
          },
          "metadata": {}
        },
        {
          "output_type": "display_data",
          "data": {
            "text/plain": "<Figure size 432x288 with 1 Axes>",
            "image/png": "[encoded data removed]"
          },
          "metadata": {
            "needs_background": "light"
          }
        }
      ]
    },
    {
      "cell_type": "markdown",
      "source": [
        "Our first attempt at prediction will vectorize the plots using simple BoW weighting, and classify the genres using a multinomial Naive Bayes classifier."
      ],
      "metadata": {
        "id": "Q5uZtOW6owQ3"
      }
    },
    {
      "cell_type": "code",
      "source": [
        "plots_df['class'] = targets\n",
        "data = plots_df[plots_df['class'] != 'other'][['Plot','Title','class']]\n",
        "train_x, test_x, train_y, test_y =  train_test_split(data['Plot'], data['class'], shuffle=True, random_state=1)\n",
        "\n",
        "pipeline = Pipeline([\n",
        "    ('vectorizer', CountVectorizer(strip_accents='unicode', stop_words='english')),\n",
        "    ('classifier', MultinomialNB())\n",
        "])\n",
        "\n",
        "pipeline.fit(train_x, train_y)\n",
        "\n",
        "y_pred = pipeline.predict(test_x)\n",
        "print(classification_report(test_y, y_pred))"
      ],
      "metadata": {
        "execution": {
          "iopub.status.busy": "2024-08-31T05:20:38.64779Z",
          "iopub.execute_input": "2024-08-31T05:20:38.648135Z",
          "iopub.status.idle": "2024-08-31T05:20:57.310785Z",
          "shell.execute_reply.started": "2024-08-31T05:20:38.648096Z",
          "shell.execute_reply": "2024-08-31T05:20:57.309669Z"
        },
        "trusted": true,
        "id": "BS8YpYMZowQ3",
        "outputId": "31fc788f-3b7d-4867-bbf5-e440f0bf4feb"
      },
      "execution_count": null,
      "outputs": [
        {
          "name": "stdout",
          "text": "                 precision    recall  f1-score   support\n\n         action       0.46      0.46      0.46       465\n         comedy       0.50      0.65      0.56      1396\n          crime       0.56      0.31      0.40       407\n          drama       0.55      0.60      0.57      1749\n         horror       0.68      0.71      0.69       380\n        musical       0.59      0.08      0.14       218\n        romance       0.38      0.42      0.40       563\nscience fiction       0.67      0.63      0.65       234\n       thriller       0.45      0.17      0.25       402\n        western       0.94      0.70      0.80       244\n\n       accuracy                           0.53      6058\n      macro avg       0.58      0.47      0.49      6058\n   weighted avg       0.54      0.53      0.52      6058\n\n",
          "output_type": "stream"
        }
      ]
    },
    {
      "cell_type": "markdown",
      "source": [
        "Not bad for such a simplistic approach! It's interesting to note that science fiction and western achieved such high precision, there are probably words that are highly indicative of the genre such as \"spaceship\" or \"cowboy\". Like the example below!"
      ],
      "metadata": {
        "id": "flEacMWgowQ3"
      }
    },
    {
      "cell_type": "code",
      "source": [
        "pipeline.predict([\n",
        "    \"Tom is a cowboy in Texas and tries his hand at bounty hunting.\",\n",
        "    \"Jenny boards the spaceship and travels to Mars in an attempt to escape the aliens.\"\n",
        "])"
      ],
      "metadata": {
        "execution": {
          "iopub.status.busy": "2024-08-31T05:21:08.048548Z",
          "iopub.execute_input": "2024-08-31T05:21:08.048909Z",
          "iopub.status.idle": "2024-08-31T05:21:08.058205Z",
          "shell.execute_reply.started": "2024-08-31T05:21:08.048867Z",
          "shell.execute_reply": "2024-08-31T05:21:08.057086Z"
        },
        "trusted": true,
        "id": "jNE1bEudowQ3",
        "outputId": "422243cf-6eb2-4b0c-d324-7b44eb019ca2"
      },
      "execution_count": null,
      "outputs": [
        {
          "execution_count": 35,
          "output_type": "execute_result",
          "data": {
            "text/plain": "array(['western', 'science fiction'], dtype='<U15')"
          },
          "metadata": {}
        }
      ]
    },
    {
      "cell_type": "markdown",
      "source": [
        "## LSTM with vector embeddings\n",
        "Our next approach will be to feed the vector embeddings of the plot tokens into an LSTM RNN. We'll need the embeddings from SpaCy. Also after examination of the dataset we'll also need to add the infix punctuation we used earlier."
      ],
      "metadata": {
        "id": "RQD03-xqowQ3"
      }
    },
    {
      "cell_type": "code",
      "source": [
        "spacy.cli.download(\"en_core_web_md\")\n",
        "nlp_md = spacy.load(\"en_core_web_md\")\n",
        "nlp_md.tokenizer.infix_finditer = infix_regex.finditer"
      ],
      "metadata": {
        "execution": {
          "iopub.status.busy": "2024-08-31T05:21:14.918403Z",
          "iopub.execute_input": "2024-08-31T05:21:14.918728Z",
          "iopub.status.idle": "2024-08-31T05:21:30.857046Z",
          "shell.execute_reply.started": "2024-08-31T05:21:14.918694Z",
          "shell.execute_reply": "2024-08-31T05:21:30.855892Z"
        },
        "trusted": true,
        "id": "ebmSyR2IowQ3",
        "outputId": "a0cd2b26-99f7-4340-de8e-a92ef12b558d"
      },
      "execution_count": null,
      "outputs": [
        {
          "name": "stdout",
          "text": "Collecting en-core-web-md==3.1.0\n  Downloading https://github.com/explosion/spacy-models/releases/download/en_core_web_md-3.1.0/en_core_web_md-3.1.0-py3-none-any.whl (45.4 MB)\nRequirement already satisfied: spacy<3.2.0,>=3.1.0 in /opt/conda/lib/python3.7/site-packages (from en-core-web-md==3.1.0) (3.1.3)\nRequirement already satisfied: tqdm<5.0.0,>=4.38.0 in /opt/conda/lib/python3.7/site-packages (from spacy<3.2.0,>=3.1.0->en-core-web-md==3.1.0) (4.62.3)\nRequirement already satisfied: catalogue<2.1.0,>=2.0.6 in /opt/conda/lib/python3.7/site-packages (from spacy<3.2.0,>=3.1.0->en-core-web-md==3.1.0) (2.0.6)\nRequirement already satisfied: spacy-legacy<3.1.0,>=3.0.8 in /opt/conda/lib/python3.7/site-packages (from spacy<3.2.0,>=3.1.0->en-core-web-md==3.1.0) (3.0.8)\nRequirement already satisfied: murmurhash<1.1.0,>=0.28.0 in /opt/conda/lib/python3.7/site-packages (from spacy<3.2.0,>=3.1.0->en-core-web-md==3.1.0) (1.0.6)\nRequirement already satisfied: requests<3.0.0,>=2.13.0 in /opt/conda/lib/python3.7/site-packages (from spacy<3.2.0,>=3.1.0->en-core-web-md==3.1.0) (2.25.1)\nRequirement already satisfied: cymem<2.1.0,>=2.0.2 in /opt/conda/lib/python3.7/site-packages (from spacy<3.2.0,>=3.1.0->en-core-web-md==3.1.0) (2.0.6)\nRequirement already satisfied: thinc<8.1.0,>=8.0.9 in /opt/conda/lib/python3.7/site-packages (from spacy<3.2.0,>=3.1.0->en-core-web-md==3.1.0) (8.0.11)\nRequirement already satisfied: preshed<3.1.0,>=3.0.2 in /opt/conda/lib/python3.7/site-packages (from spacy<3.2.0,>=3.1.0->en-core-web-md==3.1.0) (3.0.6)\nRequirement already satisfied: jinja2 in /opt/conda/lib/python3.7/site-packages (from spacy<3.2.0,>=3.1.0->en-core-web-md==3.1.0) (3.0.2)\nRequirement already satisfied: typing-extensions<4.0.0.0,>=3.7.4 in /opt/conda/lib/python3.7/site-packages (from spacy<3.2.0,>=3.1.0->en-core-web-md==3.1.0) (3.10.0.2)\nRequirement already satisfied: typer<0.5.0,>=0.3.0 in /opt/conda/lib/python3.7/site-packages (from spacy<3.2.0,>=3.1.0->en-core-web-md==3.1.0) (0.4.0)\nRequirement already satisfied: pydantic!=1.8,!=1.8.1,<1.9.0,>=1.7.4 in /opt/conda/lib/python3.7/site-packages (from spacy<3.2.0,>=3.1.0->en-core-web-md==3.1.0) (1.8.2)\nRequirement already satisfied: wasabi<1.1.0,>=0.8.1 in /opt/conda/lib/python3.7/site-packages (from spacy<3.2.0,>=3.1.0->en-core-web-md==3.1.0) (0.8.2)\nRequirement already satisfied: pathy>=0.3.5 in /opt/conda/lib/python3.7/site-packages (from spacy<3.2.0,>=3.1.0->en-core-web-md==3.1.0) (0.6.1)\nRequirement already satisfied: blis<0.8.0,>=0.4.0 in /opt/conda/lib/python3.7/site-packages (from spacy<3.2.0,>=3.1.0->en-core-web-md==3.1.0) (0.7.5)\nRequirement already satisfied: packaging>=20.0 in /opt/conda/lib/python3.7/site-packages (from spacy<3.2.0,>=3.1.0->en-core-web-md==3.1.0) (21.0)\nRequirement already satisfied: setuptools in /opt/conda/lib/python3.7/site-packages (from spacy<3.2.0,>=3.1.0->en-core-web-md==3.1.0) (58.0.4)\nRequirement already satisfied: srsly<3.0.0,>=2.4.1 in /opt/conda/lib/python3.7/site-packages (from spacy<3.2.0,>=3.1.0->en-core-web-md==3.1.0) (2.4.2)\nRequirement already satisfied: numpy>=1.15.0 in /opt/conda/lib/python3.7/site-packages (from spacy<3.2.0,>=3.1.0->en-core-web-md==3.1.0) (1.19.5)\nRequirement already satisfied: zipp>=0.5 in /opt/conda/lib/python3.7/site-packages (from catalogue<2.1.0,>=2.0.6->spacy<3.2.0,>=3.1.0->en-core-web-md==3.1.0) (3.5.0)\nRequirement already satisfied: pyparsing>=2.0.2 in /opt/conda/lib/python3.7/site-packages (from packaging>=20.0->spacy<3.2.0,>=3.1.0->en-core-web-md==3.1.0) (2.4.7)\nRequirement already satisfied: smart-open<6.0.0,>=5.0.0 in /opt/conda/lib/python3.7/site-packages (from pathy>=0.3.5->spacy<3.2.0,>=3.1.0->en-core-web-md==3.1.0) (5.2.1)\nRequirement already satisfied: certifi>=2017.4.17 in /opt/conda/lib/python3.7/site-packages (from requests<3.0.0,>=2.13.0->spacy<3.2.0,>=3.1.0->en-core-web-md==3.1.0) (2021.10.8)\nRequirement already satisfied: idna<3,>=2.5 in /opt/conda/lib/python3.7/site-packages (from requests<3.0.0,>=2.13.0->spacy<3.2.0,>=3.1.0->en-core-web-md==3.1.0) (2.10)\nRequirement already satisfied: urllib3<1.27,>=1.21.1 in /opt/conda/lib/python3.7/site-packages (from requests<3.0.0,>=2.13.0->spacy<3.2.0,>=3.1.0->en-core-web-md==3.1.0) (1.26.6)\nRequirement already satisfied: chardet<5,>=3.0.2 in /opt/conda/lib/python3.7/site-packages (from requests<3.0.0,>=2.13.0->spacy<3.2.0,>=3.1.0->en-core-web-md==3.1.0) (4.0.0)\nRequirement already satisfied: click<9.0.0,>=7.1.1 in /opt/conda/lib/python3.7/site-packages (from typer<0.5.0,>=0.3.0->spacy<3.2.0,>=3.1.0->en-core-web-md==3.1.0) (8.0.1)\nRequirement already satisfied: importlib-metadata in /opt/conda/lib/python3.7/site-packages (from click<9.0.0,>=7.1.1->typer<0.5.0,>=0.3.0->spacy<3.2.0,>=3.1.0->en-core-web-md==3.1.0) (4.8.1)\nRequirement already satisfied: MarkupSafe>=2.0 in /opt/conda/lib/python3.7/site-packages (from jinja2->spacy<3.2.0,>=3.1.0->en-core-web-md==3.1.0) (2.0.1)\n",
          "output_type": "stream"
        },
        {
          "name": "stderr",
          "text": "WARNING: Running pip as the 'root' user can result in broken permissions and conflicting behaviour with the system package manager. It is recommended to use a virtual environment instead: https://pip.pypa.io/warnings/venv\n",
          "output_type": "stream"
        },
        {
          "name": "stdout",
          "text": "\u001b[38;5;2m✔ Download and installation successful\u001b[0m\nYou can now load the package via spacy.load('en_core_web_md')\n",
          "output_type": "stream"
        }
      ]
    },
    {
      "cell_type": "markdown",
      "source": [
        "Tokenization is going to take some time, because it also includes POS lemmatization"
      ],
      "metadata": {
        "id": "Ume8jnbgowQ4"
      }
    },
    {
      "cell_type": "code",
      "source": [
        "plots = nlp_md.pipe(plots_df['Plot'],disable=['parser','ner'], batch_size=100, n_process=3)\n",
        "\n",
        "log_interval = 1000\n",
        "\n",
        "plots_tokenized = []\n",
        "for doc in plots:\n",
        "    tokens = []\n",
        "    for token in doc:\n",
        "        if token.is_alpha and not token.is_stop:\n",
        "            tokens.append(token.lemma_.lower())\n",
        "    plots_tokenized.append(tokens)\n",
        "    if len(plots_tokenized) % log_interval == 0:\n",
        "        print(f\"Tokenized {len(plots_tokenized)} plots\")"
      ],
      "metadata": {
        "execution": {
          "iopub.status.busy": "2024-08-31T05:21:37.227411Z",
          "iopub.execute_input": "2024-08-31T05:21:37.227787Z",
          "iopub.status.idle": "2024-08-31T05:33:05.305142Z",
          "shell.execute_reply.started": "2024-08-31T05:21:37.227742Z",
          "shell.execute_reply": "2024-08-31T05:33:05.304021Z"
        },
        "trusted": true,
        "id": "4cqG_ntHowQ4",
        "outputId": "5f189df4-8a53-4cec-ad84-2fdf5d981b4d"
      },
      "execution_count": null,
      "outputs": [
        {
          "name": "stdout",
          "text": "Tokenized 1000 plots\nTokenized 2000 plots\nTokenized 3000 plots\nTokenized 4000 plots\nTokenized 5000 plots\nTokenized 6000 plots\nTokenized 7000 plots\nTokenized 8000 plots\nTokenized 9000 plots\nTokenized 10000 plots\nTokenized 11000 plots\nTokenized 12000 plots\nTokenized 13000 plots\nTokenized 14000 plots\nTokenized 15000 plots\nTokenized 16000 plots\nTokenized 17000 plots\nTokenized 18000 plots\nTokenized 19000 plots\nTokenized 20000 plots\nTokenized 21000 plots\nTokenized 22000 plots\nTokenized 23000 plots\nTokenized 24000 plots\nTokenized 25000 plots\nTokenized 26000 plots\nTokenized 27000 plots\nTokenized 28000 plots\nTokenized 29000 plots\nTokenized 30000 plots\nTokenized 31000 plots\nTokenized 32000 plots\nTokenized 33000 plots\nTokenized 34000 plots\n",
          "output_type": "stream"
        }
      ]
    },
    {
      "cell_type": "markdown",
      "source": [
        "Next, we need to find the vector index for each word in order for it to be fed to the embedding layer."
      ],
      "metadata": {
        "id": "MwUzJfvRowQ4"
      }
    },
    {
      "cell_type": "code",
      "source": [
        "vectors = nlp_md.vocab.vectors\n",
        "plots_ind = [ [vectors.find(key=word) for word in plot if vectors.find(key=word) > -1] for plot in plots_tokenized]\n",
        "\n",
        "plots_series = pd.Series(plots_ind)\n",
        "plots_series.apply(len).describe()"
      ],
      "metadata": {
        "execution": {
          "iopub.status.busy": "2024-08-31T06:05:22.15745Z",
          "iopub.execute_input": "2024-08-31T06:05:22.158598Z",
          "iopub.status.idle": "2024-08-31T06:05:54.798537Z",
          "shell.execute_reply.started": "2024-08-31T06:05:22.15851Z",
          "shell.execute_reply": "2024-08-31T06:05:54.797361Z"
        },
        "trusted": true,
        "id": "FJbeoSslowQ4",
        "outputId": "2ea38528-85fa-46e2-a213-253f62893ab4"
      },
      "execution_count": null,
      "outputs": [
        {
          "execution_count": 38,
          "output_type": "execute_result",
          "data": {
            "text/plain": "count    34886.000000\nmean       185.250043\nstd        155.236456\nmin          1.000000\n25%         61.000000\n50%        141.000000\n75%        289.000000\nmax       3127.000000\ndtype: float64"
          },
          "metadata": {}
        }
      ]
    },
    {
      "cell_type": "markdown",
      "source": [
        "After examining the distribution of sequence lengths, we select a length so that we cover most of the available text"
      ],
      "metadata": {
        "id": "F6s5qFFoowQ4"
      }
    },
    {
      "cell_type": "code",
      "source": [
        "plots_padded = sequence.pad_sequences(plots_ind, maxlen=350, padding='post',truncating='post')"
      ],
      "metadata": {
        "execution": {
          "iopub.status.busy": "2024-08-31T06:06:08.54702Z",
          "iopub.execute_input": "2024-08-31T06:06:08.547407Z",
          "iopub.status.idle": "2024-08-31T06:06:10.290001Z",
          "shell.execute_reply.started": "2024-08-31T06:06:08.547367Z",
          "shell.execute_reply": "2024-08-31T06:06:10.288798Z"
        },
        "trusted": true,
        "id": "dIx7iB-6owQ4"
      },
      "execution_count": null,
      "outputs": []
    },
    {
      "cell_type": "markdown",
      "source": [
        "This time we'll try a multi-label approach, using more genres. We'll remove the datapoints that don't include any of the selected genres. This still leaves us with a lot of datapoints."
      ],
      "metadata": {
        "id": "QOSxv2x3owQ5"
      }
    },
    {
      "cell_type": "code",
      "source": [
        "target_classes = get_top_genres(35)\n",
        "binarizer = MultiLabelBinarizer(classes=target_classes)\n",
        "target_vectors = binarizer.fit_transform(genres)\n",
        "\n",
        "non_zero = (target_vectors != 0).any(axis=1)\n",
        "X = torch.tensor(plots_padded[non_zero],dtype=torch.long)\n",
        "y = torch.tensor(target_vectors[non_zero], dtype= torch.float)\n",
        "\n",
        "X.shape"
      ],
      "metadata": {
        "execution": {
          "iopub.status.busy": "2024-08-31T06:06:21.661626Z",
          "iopub.execute_input": "2024-08-31T06:06:21.662386Z",
          "iopub.status.idle": "2024-08-31T06:06:21.884678Z",
          "shell.execute_reply.started": "2024-08-31T06:06:21.662303Z",
          "shell.execute_reply": "2024-08-31T06:06:21.883723Z"
        },
        "trusted": true,
        "id": "ZiBxrXMAowQ5",
        "outputId": "81049e0b-b67d-4903-e6db-320d1f31abc2"
      },
      "execution_count": null,
      "outputs": [
        {
          "name": "stderr",
          "text": "/opt/conda/lib/python3.7/site-packages/sklearn/preprocessing/_label.py:995: UserWarning: unknown class(es) [' ', '  ', \"'s\", '007', '1', '140', '144', '16', '18', '2', '25', '3', '30min', '3d', '4,000', '6', '9', 'a', 'about', 'acclaimed', 'adaptation', 'adapted', 'adult', 'adventures', 'afghan', 'african', 'agarwal', 'age', 'ago', 'ahlawat', 'aids', 'ajay', 'alexandre', 'ali', 'alice', 'allari', 'alzheimer', 'american', 'amperiani', 'ancient', 'and', 'anthology', 'anushka', 'apocalyptic', 'aquatics', 'arctic', 'arjun', 'art', 'arti', 'artistic', 'artists', 'arts', 'arya', 'asin', 'aswani', 'august', \"auli'i\", 'australian', 'avant', 'aviation', 'b', 'b.r', 'babu', 'bajwa', 'balaji', 'balakrishna', 'ballard', 'balu', 'banks', 'barua', 'based', 'bbc', 'bernard', 'bhagavaan', 'bharath', 'bhaskara', 'bhavana', 'bholenath', 'bhoomika', 'biblical', 'bicycle', 'biju', 'biker', 'bio', 'biodrama', 'biographic', 'biogtaphy', 'biopic', 'blaxploitation', 'board', 'bond', 'bouchard', 'boxing', 'brahmanandam', 'bram', 'bramhanandam', 'british', 'bros', 'bruceploitation', 'buddy', 'business', 'by', 'camp', 'campus', 'can', 'canada', 'canadian', 'canadiens', 'cartoon', 'cbc', 'chakraborty', 'chakravarthy', 'chambara', 'chan', 'chanbara', 'chanchal', 'charlie', 'charmme', 'charmy', 'chawla', 'chess', 'child', 'children', 'chillies', 'chiranjeevi', 'chopra', 'chowdhury', 'christian', 'cinekorn', 'cinema', 'citation', 'classic', 'clay', 'co', 'cold', 'colm', 'colonial', 'color', 'comedey', 'comedic', 'comic', 'coming', 'compilation', 'computer', 'concert', 'conspiracy', 'cop', 'costume', 'counterculture', 'cowboy', 'cravalho', 'critically', 'cult', 'cultural', 'cyberpunk', 'd', \"d'cruz\", \"d'souza\", 'd.', 'dance', 'dark', 'das', 'dasgupta', 'dattatraya', 'day', 'debashree', 'debut', 'detective', 'dev', 'deva', 'devotional', 'dharma', 'direct', 'directorial', 'disaster', 'disease', 'docufiction', 'donoghue', 'double', 'dram', 'dramatic', 'duology', 'dvd', 'dwayne', 'dystopia', 'eadweard', 'early', 'educational', 'eiga', 'emergency', 'emma', 'entertainer', 'entertainment', 'environmental', 'epic', 'ero', 'eros', 'erotic', 'erotica', 'espionage', 'event', 'experimental', 'exploitation', 'fairy', 'famil', 'familya', 'fantay', 'faria', 'feature', 'fiction', 'fighting', 'films', 'fim', 'folklore', 'footage', 'football', 'for', 'forest', 'found', 'from', 'fu', 'futuristic', 'gangster', 'garde', 'geki', 'genelia', 'genre', 'german', 'girl', 'given', 'glukoza', 'gopi', 'gore', 'gosavi', 'gothic', 'goyette', 'gun', 'harem', 'hegland', 'heist', 'hills', 'historic', 'history', 'hit', 'hitler', 'hockey', 'holocaust', 'home', 'homosexual', 'house', 'huangmei', 'human', 'humor', 'hygiene', 'i', 'idol', 'ileana', 'imax', 'imdb', 'immigrant', 'in', 'independent', 'indira', 'inspired', 'interactive', 'international', 'into', 'inuit', 'investigative', 'j', 'j.g', 'jagapati', 'jahan', 'james', 'jayasudha', 'je', 'jean', 'jeet', 'jidai', 'jidaigeki', 'johansson', 'johnson', 'joshi', 'jr', 'jyothika', 'k9', 'kaiju', 'kalyan', 'kalyani', 'kamalinee', 'kamalini', 'kanakala', 'karuta', 'kaur', 'kei', 'keiji', \"ken'ichi\", 'khokhlova', 'khushboo', 'kids', 'kiran', 'knkspl', 'kondavalasa', 'korean', 'kota', 'kothari', 'koyuki', 'krapiventsev', 'krishna', 'krishnan', 'krishnashankar', 'kung', 'lai', 'lakshmana', 'laurence', 'lawrence', 'lee', 'legal', 'legend', 'lgbt', 'liberation', 'life', 'literary', 'live', 'loosely', 'love', 'made', 'madhav', 'madhu', 'magical', 'mahesh', 'malyana', 'mammootty', 'marc', 'margaret', 'martial', 'masala', 'masuma', 'maurice', 'maysuyama', 'mazhar', 'mecha', 'medical', 'meera', 'melodrama', 'menon', 'michel', 'military', 'mimi', 'miniseries', 'mistry', 'mm', 'mob', 'mocatsu', 'mockumentary', 'modern', 'mohanlal', 'mohit', 'monster', 'montreal', 'mordecai', 'motion', 'mouawad', 'movie', 'movies', 'mukesh', 'mukherjee', 'munro', 'murder', 'music', 'muslim', 'muybridge', 'mythological', 'mythology', 'nabila', 'nadeem', 'nagarjuna', 'name', 'nandamuri', 'narayan', 'narayanan', 'naresh', 'national', 'nature', 'nayantara', 'nedumudi', 'neo', 'nfb', 'not', 'novel', 'ntr', 'nusrat', 'occult', 'of', 'oleg', 'olga', 'oliver', 'on', 'opera', 'operetta', 'outlaw', 'p.', 'p.o.w', 'padmapriya', 'panorama', 'paramount', 'parody', 'partha', 'passion', 'patriotic', 'patriotism', 'paul', 'pawan', 'period', 'perodic', 'photographer', 'physiological', 'pictures', 'piece', 'pink', 'pioneering', 'play', 'poker', 'police', 'politics', 'pooja', 'poonam', 'porno', 'portmanteau', 'post', 'pow', 'prabhas', 'prabhu', 'prakash', 'prasad', 'prehistoric', 'priquitianism', 'prison', 'priyadarshini', 'priyanka', 'produced', 'production', 'productions', 'propaganda', 'pseudo', 'psy', 'psycho', 'psychological', 'punk', 'race', 'racing', 'radhika', 'radio', 'raghava', 'rahman', 'raj', 'raja', 'rajasekhar', 'rajendra', 'rajiv', 'ram', 'raman', 'ramanaidu', 'rao', 'ravi', 'reality', 'red', 'reddy', 'reeler', 'reema', 'reese', 'reincarnation', 'related', 'religious', 'remake', 'revenge', 'revolutionary', 'richard', 'richler', 'rights', 'rishi', 'road', 'robitaille', 'rock', 'rohinton', 'role', 'roman', 'romanctic', 'roy', 'russell', 's.', 'saali', 'sada', 'saloni', 'same', 'sameera', 'samskruti', 'samurai', 'sandhya', 'saran', 'satire', 'satirical', 'scarlett', 'school', 'science', 'screenplay', 'screwball', 'semi', 'sen', 'sentiment', 'separate', 'sergey', 'series', 'set', 'sex', 'sexploitation', 'sexual', 'sf', 'shakespearean', 'sharma', 'sharwanand', 'shashank', 'shenoy', 'shetty', 'shogi', 'shraddha', 'shravan', 'shriya', 'siddharth', 'silent', 'sin', 'sindhu', 'siva', 'sivaji', 'slade', 'slahser', 'slapstick', 'slasher', 'slice', 'sneha', 'socio', 'soldiers', 'sonu', 'sood', 'south', 'space', 'splatter', 'spoof', 'sport', 'srikanth', 'srinivasa', 'staged', 'star', 'steampunk', 'stephen', 'stoker', 'stoner', 'stop', 'stories', 'story', 'strip', 'student', 'studio', 'studios', 'stylish', 'subject', 'suhasini', 'suitors', 'sukachenko', 'sumanth', 'summer', 'sunil', 'supeheroes', 'super', 'superheroes', 'supernatural', 'surf', 'surreal', 'survival', 'swashbuckler', 'swashbuckling', 'swimming', 'sword', 'tabu', 'tale', 'tapas', 'teen', 'teja', 'television', 'thai', 'the', 'themed', 'thriler', 'time', 'to', 'tokusatsu', 'tolani', 'tragedy', 'tragerdy', 'tragic', 'travel', 'traveling', 'travelog', 'triad', 'triangle', 'triller', 'trilogy', 'trisha', 'true', 'ttriller', 'tv', 'twist', 'tóibín', 'uday', 'united', 'unknown', 'urban', 'usa', 'v', 'vampire', 'venu', 'viacom', 'video', 'vigilante', 'vimala', 'viswendar', 'vizinczey', 'volleyball', 'wajdi', 'warner', 'wartime', 'with', 'witherspoon', 'wuxia', 'ww1', 'wwii', 'yakuza', 'yash', 'years', 'yeh', 'yellow', 'yogesh', 'youth', 'yuen', 'zindagi', 'zombie'] will be ignored\n  .format(sorted(unknown, key=str)))\n",
          "output_type": "stream"
        },
        {
          "execution_count": 40,
          "output_type": "execute_result",
          "data": {
            "text/plain": "torch.Size([28166, 350])"
          },
          "metadata": {}
        }
      ]
    },
    {
      "cell_type": "code",
      "source": [
        "dataset = torch.utils.data.dataset.TensorDataset(X,y)\n",
        "\n",
        "# Fixed generator for reproducible results\n",
        "random_generator = torch.Generator().manual_seed(1)\n",
        "\n",
        "train_percent = 0.7\n",
        "train_size = int(train_percent * X.shape[0])\n",
        "test_size = X.shape[0] - train_size\n",
        "\n",
        "train_dataset, test_dataset = torch.utils.data.random_split(dataset, [train_size, test_size], generator=random_generator)\n",
        "\n",
        "batch_size = 100\n",
        "train_dataloader = torch.utils.data.DataLoader(train_dataset, batch_size=batch_size, shuffle=True, generator=random_generator)\n",
        "test_dataloader = torch.utils.data.DataLoader(test_dataset, batch_size=batch_size)"
      ],
      "metadata": {
        "execution": {
          "iopub.status.busy": "2024-08-31T06:06:30.987096Z",
          "iopub.execute_input": "2024-08-31T06:06:30.988148Z",
          "iopub.status.idle": "2024-08-31T06:06:30.999567Z",
          "shell.execute_reply.started": "2024-08-31T06:06:30.988008Z",
          "shell.execute_reply": "2024-08-31T06:06:30.998401Z"
        },
        "trusted": true,
        "id": "P1_KQ4DCowQ5"
      },
      "execution_count": null,
      "outputs": []
    },
    {
      "cell_type": "markdown",
      "source": [
        "Our Model will only contain the embedding layer, a recurrent layer for which we will keep 128 hidden units, and a linear layer for the final classification"
      ],
      "metadata": {
        "id": "NoWoRnxHowQ5"
      }
    },
    {
      "cell_type": "code",
      "source": [
        "class GenreModel(torch.nn.Module):\n",
        "\n",
        "    def __init__(self, embeddings, num_hidden, num_output):\n",
        "        super(GenreModel, self).__init__()\n",
        "        self.embedding = torch.nn.Embedding.from_pretrained(torch.Tensor(embeddings))\n",
        "        self.recurrent = torch.nn.LSTM(input_size=embeddings.shape[1], hidden_size=num_hidden, batch_first=True)\n",
        "        self.dense = torch.nn.Linear(in_features=num_hidden, out_features=num_output)\n",
        "        self.softmax = torch.nn.Softmax(dim=1)\n",
        "\n",
        "    def forward(self, x):\n",
        "        x = self.embedding(x)\n",
        "        output, (h_n, c_n) = self.recurrent(x)\n",
        "        x = self.dense(h_n)\n",
        "        x = self.softmax(x)\n",
        "        return x\n",
        "\n",
        "embeddings = nlp_md.vocab.vectors.data\n",
        "model = GenreModel(embeddings,128, y.shape[1])"
      ],
      "metadata": {
        "execution": {
          "iopub.status.busy": "2024-08-31T06:06:39.522625Z",
          "iopub.execute_input": "2024-08-31T06:06:39.522988Z",
          "iopub.status.idle": "2024-08-31T06:06:39.579402Z",
          "shell.execute_reply.started": "2024-08-31T06:06:39.522948Z",
          "shell.execute_reply": "2024-08-31T06:06:39.578236Z"
        },
        "trusted": true,
        "id": "FKPU3MxjowQ5"
      },
      "execution_count": null,
      "outputs": []
    },
    {
      "cell_type": "markdown",
      "source": [
        "Because we have a multi-label target we'll use binary cross entropy for the loss function."
      ],
      "metadata": {
        "id": "3PITAO-fowQ5"
      }
    },
    {
      "cell_type": "code",
      "source": [
        "logging_batch = 10\n",
        "\n",
        "def train_loop(dataloader, model, loss_fn, optimizer):\n",
        "    size = len(dataloader.dataset)\n",
        "    for batch, (X, y) in enumerate(dataloader):\n",
        "        pred = model(X)\n",
        "        loss = loss_fn(pred[0], y)\n",
        "\n",
        "        optimizer.zero_grad()\n",
        "        loss.backward()\n",
        "        optimizer.step()\n",
        "\n",
        "        if batch % logging_batch == 0:\n",
        "            loss, current = loss.item(), batch * len(X)\n",
        "            print(f\"loss: {loss:>7f}  [{current:>5d}/{size:>5d}]\")\n",
        "\n",
        "def test_loop(dataloader, model, loss_fn):\n",
        "    size = len(dataloader.dataset)\n",
        "    num_batches = len(dataloader)\n",
        "    test_loss, correct = 0, 0\n",
        "\n",
        "    with torch.no_grad():\n",
        "        for X, y in dataloader:\n",
        "            pred = model(X)\n",
        "            test_loss += loss_fn(pred[0], y).item()\n",
        "\n",
        "    test_loss /= num_batches\n",
        "    print(f\"Test Error: Avg loss: {test_loss:>8f} \\n\")\n",
        "\n",
        "loss_fn = torch.nn.BCELoss()\n",
        "optimizer = torch.optim.Adam(model.parameters(), lr=0.01)\n",
        "\n",
        "epochs = 10\n",
        "for t in range(epochs):\n",
        "    print(f\"Epoch {t+1}\")\n",
        "    train_loop(train_dataloader, model, loss_fn, optimizer)\n",
        "    test_loop(test_dataloader, model, loss_fn)"
      ],
      "metadata": {
        "execution": {
          "iopub.status.busy": "2024-08-31T06:06:49.393768Z",
          "iopub.execute_input": "2024-08-31T06:06:49.394198Z",
          "iopub.status.idle": "2024-08-31T06:34:33.900232Z",
          "shell.execute_reply.started": "2024-08-31T06:06:49.394148Z",
          "shell.execute_reply": "2024-08-31T06:34:33.899219Z"
        },
        "trusted": true,
        "id": "zTtN0iBNowQ6",
        "outputId": "16f9ea7a-93a6-4ca9-8e44-7b3e5d8faaa8"
      },
      "execution_count": null,
      "outputs": [
        {
          "name": "stdout",
          "text": "Epoch 1\nloss: 0.179303  [    0/19716]\nloss: 0.196608  [ 1000/19716]\nloss: 0.171056  [ 2000/19716]\nloss: 0.180773  [ 3000/19716]\nloss: 0.171566  [ 4000/19716]\nloss: 0.188087  [ 5000/19716]\nloss: 0.179009  [ 6000/19716]\nloss: 0.177580  [ 7000/19716]\nloss: 0.188737  [ 8000/19716]\nloss: 0.175526  [ 9000/19716]\nloss: 0.169589  [10000/19716]\nloss: 0.179002  [11000/19716]\nloss: 0.172252  [12000/19716]\nloss: 0.153360  [13000/19716]\nloss: 0.165332  [14000/19716]\nloss: 0.182451  [15000/19716]\nloss: 0.170022  [16000/19716]\nloss: 0.170957  [17000/19716]\nloss: 0.174491  [18000/19716]\nloss: 0.168530  [19000/19716]\nTest Error: Avg loss: 0.170464 \n\nEpoch 2\nloss: 0.175180  [    0/19716]\nloss: 0.168580  [ 1000/19716]\nloss: 0.157374  [ 2000/19716]\nloss: 0.174554  [ 3000/19716]\nloss: 0.152841  [ 4000/19716]\nloss: 0.158400  [ 5000/19716]\nloss: 0.163257  [ 6000/19716]\nloss: 0.179514  [ 7000/19716]\nloss: 0.161235  [ 8000/19716]\nloss: 0.168388  [ 9000/19716]\nloss: 0.165557  [10000/19716]\nloss: 0.147325  [11000/19716]\nloss: 0.164639  [12000/19716]\nloss: 0.169723  [13000/19716]\nloss: 0.166188  [14000/19716]\nloss: 0.160322  [15000/19716]\nloss: 0.169359  [16000/19716]\nloss: 0.175947  [17000/19716]\nloss: 0.163788  [18000/19716]\nloss: 0.162377  [19000/19716]\nTest Error: Avg loss: 0.162654 \n\nEpoch 3\nloss: 0.160846  [    0/19716]\nloss: 0.155116  [ 1000/19716]\nloss: 0.170787  [ 2000/19716]\nloss: 0.157305  [ 3000/19716]\nloss: 0.162311  [ 4000/19716]\nloss: 0.162089  [ 5000/19716]\nloss: 0.159490  [ 6000/19716]\nloss: 0.165306  [ 7000/19716]\nloss: 0.155493  [ 8000/19716]\nloss: 0.159777  [ 9000/19716]\nloss: 0.154661  [10000/19716]\nloss: 0.158058  [11000/19716]\nloss: 0.167544  [12000/19716]\nloss: 0.157171  [13000/19716]\nloss: 0.166000  [14000/19716]\nloss: 0.163754  [15000/19716]\nloss: 0.159006  [16000/19716]\nloss: 0.159361  [17000/19716]\nloss: 0.147902  [18000/19716]\nloss: 0.155496  [19000/19716]\nTest Error: Avg loss: 0.159564 \n\nEpoch 4\nloss: 0.158623  [    0/19716]\nloss: 0.160927  [ 1000/19716]\nloss: 0.171428  [ 2000/19716]\nloss: 0.145086  [ 3000/19716]\nloss: 0.150973  [ 4000/19716]\nloss: 0.145672  [ 5000/19716]\nloss: 0.145063  [ 6000/19716]\nloss: 0.160501  [ 7000/19716]\nloss: 0.151578  [ 8000/19716]\nloss: 0.160542  [ 9000/19716]\nloss: 0.158173  [10000/19716]\nloss: 0.151722  [11000/19716]\nloss: 0.150131  [12000/19716]\nloss: 0.166115  [13000/19716]\nloss: 0.172741  [14000/19716]\nloss: 0.156169  [15000/19716]\nloss: 0.161333  [16000/19716]\nloss: 0.146163  [17000/19716]\nloss: 0.151178  [18000/19716]\nloss: 0.163276  [19000/19716]\nTest Error: Avg loss: 0.158703 \n\nEpoch 5\nloss: 0.157081  [    0/19716]\nloss: 0.154923  [ 1000/19716]\nloss: 0.147534  [ 2000/19716]\nloss: 0.147884  [ 3000/19716]\nloss: 0.148400  [ 4000/19716]\nloss: 0.154474  [ 5000/19716]\nloss: 0.146639  [ 6000/19716]\nloss: 0.143503  [ 7000/19716]\nloss: 0.150057  [ 8000/19716]\nloss: 0.150775  [ 9000/19716]\nloss: 0.145207  [10000/19716]\nloss: 0.138845  [11000/19716]\nloss: 0.146227  [12000/19716]\nloss: 0.154071  [13000/19716]\nloss: 0.154442  [14000/19716]\nloss: 0.151603  [15000/19716]\nloss: 0.146157  [16000/19716]\nloss: 0.139546  [17000/19716]\nloss: 0.160415  [18000/19716]\nloss: 0.144514  [19000/19716]\nTest Error: Avg loss: 0.158757 \n\nEpoch 6\nloss: 0.157367  [    0/19716]\nloss: 0.141534  [ 1000/19716]\nloss: 0.149583  [ 2000/19716]\nloss: 0.142529  [ 3000/19716]\nloss: 0.139650  [ 4000/19716]\nloss: 0.147830  [ 5000/19716]\nloss: 0.142407  [ 6000/19716]\nloss: 0.148331  [ 7000/19716]\nloss: 0.144783  [ 8000/19716]\nloss: 0.152362  [ 9000/19716]\nloss: 0.149080  [10000/19716]\nloss: 0.154696  [11000/19716]\nloss: 0.158358  [12000/19716]\nloss: 0.148987  [13000/19716]\nloss: 0.151103  [14000/19716]\nloss: 0.144592  [15000/19716]\nloss: 0.164162  [16000/19716]\nloss: 0.147501  [17000/19716]\nloss: 0.159143  [18000/19716]\nloss: 0.147174  [19000/19716]\nTest Error: Avg loss: 0.158848 \n\nEpoch 7\nloss: 0.133667  [    0/19716]\nloss: 0.141819  [ 1000/19716]\nloss: 0.158973  [ 2000/19716]\nloss: 0.140501  [ 3000/19716]\nloss: 0.153607  [ 4000/19716]\nloss: 0.146327  [ 5000/19716]\nloss: 0.150592  [ 6000/19716]\nloss: 0.142594  [ 7000/19716]\nloss: 0.144588  [ 8000/19716]\nloss: 0.156996  [ 9000/19716]\nloss: 0.142522  [10000/19716]\nloss: 0.137949  [11000/19716]\nloss: 0.136489  [12000/19716]\nloss: 0.151298  [13000/19716]\nloss: 0.153156  [14000/19716]\nloss: 0.142050  [15000/19716]\nloss: 0.132904  [16000/19716]\nloss: 0.137051  [17000/19716]\nloss: 0.166072  [18000/19716]\nloss: 0.148154  [19000/19716]\nTest Error: Avg loss: 0.159300 \n\nEpoch 8\nloss: 0.139988  [    0/19716]\nloss: 0.150253  [ 1000/19716]\nloss: 0.139325  [ 2000/19716]\nloss: 0.142382  [ 3000/19716]\nloss: 0.138002  [ 4000/19716]\nloss: 0.158872  [ 5000/19716]\nloss: 0.133000  [ 6000/19716]\nloss: 0.151372  [ 7000/19716]\nloss: 0.141856  [ 8000/19716]\nloss: 0.149829  [ 9000/19716]\nloss: 0.143325  [10000/19716]\nloss: 0.151465  [11000/19716]\nloss: 0.142241  [12000/19716]\nloss: 0.129822  [13000/19716]\nloss: 0.151943  [14000/19716]\nloss: 0.138793  [15000/19716]\nloss: 0.130973  [16000/19716]\nloss: 0.145581  [17000/19716]\nloss: 0.138520  [18000/19716]\nloss: 0.165579  [19000/19716]\nTest Error: Avg loss: 0.160088 \n\nEpoch 9\nloss: 0.147424  [    0/19716]\nloss: 0.144713  [ 1000/19716]\nloss: 0.141491  [ 2000/19716]\nloss: 0.130667  [ 3000/19716]\nloss: 0.152913  [ 4000/19716]\nloss: 0.146317  [ 5000/19716]\nloss: 0.152245  [ 6000/19716]\nloss: 0.138066  [ 7000/19716]\nloss: 0.138996  [ 8000/19716]\nloss: 0.142440  [ 9000/19716]\nloss: 0.142223  [10000/19716]\nloss: 0.147219  [11000/19716]\nloss: 0.136386  [12000/19716]\nloss: 0.147289  [13000/19716]\nloss: 0.141301  [14000/19716]\nloss: 0.134889  [15000/19716]\nloss: 0.141904  [16000/19716]\nloss: 0.118339  [17000/19716]\nloss: 0.157152  [18000/19716]\nloss: 0.134171  [19000/19716]\nTest Error: Avg loss: 0.160774 \n\nEpoch 10\nloss: 0.132447  [    0/19716]\nloss: 0.131404  [ 1000/19716]\nloss: 0.131107  [ 2000/19716]\nloss: 0.145548  [ 3000/19716]\nloss: 0.138903  [ 4000/19716]\nloss: 0.141678  [ 5000/19716]\nloss: 0.146688  [ 6000/19716]\nloss: 0.136107  [ 7000/19716]\nloss: 0.121940  [ 8000/19716]\nloss: 0.135253  [ 9000/19716]\nloss: 0.138038  [10000/19716]\nloss: 0.158650  [11000/19716]\nloss: 0.146150  [12000/19716]\nloss: 0.126786  [13000/19716]\nloss: 0.135219  [14000/19716]\nloss: 0.139487  [15000/19716]\nloss: 0.137451  [16000/19716]\nloss: 0.151632  [17000/19716]\nloss: 0.155651  [18000/19716]\nloss: 0.153021  [19000/19716]\nTest Error: Avg loss: 0.161674 \n\n",
          "output_type": "stream"
        }
      ]
    },
    {
      "cell_type": "code",
      "source": [],
      "metadata": {
        "id": "77IG5ZsiowQ6"
      },
      "execution_count": null,
      "outputs": []
    }
  ]
}